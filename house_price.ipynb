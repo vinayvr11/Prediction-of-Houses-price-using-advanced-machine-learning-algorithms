{
 "cells": [
  {
   "cell_type": "code",
   "execution_count": 1,
   "metadata": {},
   "outputs": [],
   "source": [
    "import numpy as np\n",
    "import pandas as pd\n",
    "import seaborn as sns\n",
    "from matplotlib import pyplot as plt\n",
    "from sklearn.impute import SimpleImputer"
   ]
  },
  {
   "cell_type": "code",
   "execution_count": 290,
   "metadata": {},
   "outputs": [
    {
     "data": {
      "text/html": [
       "<div>\n",
       "<style scoped>\n",
       "    .dataframe tbody tr th:only-of-type {\n",
       "        vertical-align: middle;\n",
       "    }\n",
       "\n",
       "    .dataframe tbody tr th {\n",
       "        vertical-align: top;\n",
       "    }\n",
       "\n",
       "    .dataframe thead th {\n",
       "        text-align: right;\n",
       "    }\n",
       "</style>\n",
       "<table border=\"1\" class=\"dataframe\">\n",
       "  <thead>\n",
       "    <tr style=\"text-align: right;\">\n",
       "      <th></th>\n",
       "      <th>Id</th>\n",
       "      <th>MSSubClass</th>\n",
       "      <th>MSZoning</th>\n",
       "      <th>LotFrontage</th>\n",
       "      <th>LotArea</th>\n",
       "      <th>Street</th>\n",
       "      <th>Alley</th>\n",
       "      <th>LotShape</th>\n",
       "      <th>LandContour</th>\n",
       "      <th>Utilities</th>\n",
       "      <th>...</th>\n",
       "      <th>PoolArea</th>\n",
       "      <th>PoolQC</th>\n",
       "      <th>Fence</th>\n",
       "      <th>MiscFeature</th>\n",
       "      <th>MiscVal</th>\n",
       "      <th>MoSold</th>\n",
       "      <th>YrSold</th>\n",
       "      <th>SaleType</th>\n",
       "      <th>SaleCondition</th>\n",
       "      <th>SalePrice</th>\n",
       "    </tr>\n",
       "  </thead>\n",
       "  <tbody>\n",
       "    <tr>\n",
       "      <th>0</th>\n",
       "      <td>1</td>\n",
       "      <td>60</td>\n",
       "      <td>RL</td>\n",
       "      <td>65.0</td>\n",
       "      <td>8450</td>\n",
       "      <td>Pave</td>\n",
       "      <td>NaN</td>\n",
       "      <td>Reg</td>\n",
       "      <td>Lvl</td>\n",
       "      <td>AllPub</td>\n",
       "      <td>...</td>\n",
       "      <td>0</td>\n",
       "      <td>NaN</td>\n",
       "      <td>NaN</td>\n",
       "      <td>NaN</td>\n",
       "      <td>0</td>\n",
       "      <td>2</td>\n",
       "      <td>2008</td>\n",
       "      <td>WD</td>\n",
       "      <td>Normal</td>\n",
       "      <td>208500</td>\n",
       "    </tr>\n",
       "    <tr>\n",
       "      <th>1</th>\n",
       "      <td>2</td>\n",
       "      <td>20</td>\n",
       "      <td>RL</td>\n",
       "      <td>80.0</td>\n",
       "      <td>9600</td>\n",
       "      <td>Pave</td>\n",
       "      <td>NaN</td>\n",
       "      <td>Reg</td>\n",
       "      <td>Lvl</td>\n",
       "      <td>AllPub</td>\n",
       "      <td>...</td>\n",
       "      <td>0</td>\n",
       "      <td>NaN</td>\n",
       "      <td>NaN</td>\n",
       "      <td>NaN</td>\n",
       "      <td>0</td>\n",
       "      <td>5</td>\n",
       "      <td>2007</td>\n",
       "      <td>WD</td>\n",
       "      <td>Normal</td>\n",
       "      <td>181500</td>\n",
       "    </tr>\n",
       "    <tr>\n",
       "      <th>2</th>\n",
       "      <td>3</td>\n",
       "      <td>60</td>\n",
       "      <td>RL</td>\n",
       "      <td>68.0</td>\n",
       "      <td>11250</td>\n",
       "      <td>Pave</td>\n",
       "      <td>NaN</td>\n",
       "      <td>IR1</td>\n",
       "      <td>Lvl</td>\n",
       "      <td>AllPub</td>\n",
       "      <td>...</td>\n",
       "      <td>0</td>\n",
       "      <td>NaN</td>\n",
       "      <td>NaN</td>\n",
       "      <td>NaN</td>\n",
       "      <td>0</td>\n",
       "      <td>9</td>\n",
       "      <td>2008</td>\n",
       "      <td>WD</td>\n",
       "      <td>Normal</td>\n",
       "      <td>223500</td>\n",
       "    </tr>\n",
       "    <tr>\n",
       "      <th>3</th>\n",
       "      <td>4</td>\n",
       "      <td>70</td>\n",
       "      <td>RL</td>\n",
       "      <td>60.0</td>\n",
       "      <td>9550</td>\n",
       "      <td>Pave</td>\n",
       "      <td>NaN</td>\n",
       "      <td>IR1</td>\n",
       "      <td>Lvl</td>\n",
       "      <td>AllPub</td>\n",
       "      <td>...</td>\n",
       "      <td>0</td>\n",
       "      <td>NaN</td>\n",
       "      <td>NaN</td>\n",
       "      <td>NaN</td>\n",
       "      <td>0</td>\n",
       "      <td>2</td>\n",
       "      <td>2006</td>\n",
       "      <td>WD</td>\n",
       "      <td>Abnorml</td>\n",
       "      <td>140000</td>\n",
       "    </tr>\n",
       "    <tr>\n",
       "      <th>4</th>\n",
       "      <td>5</td>\n",
       "      <td>60</td>\n",
       "      <td>RL</td>\n",
       "      <td>84.0</td>\n",
       "      <td>14260</td>\n",
       "      <td>Pave</td>\n",
       "      <td>NaN</td>\n",
       "      <td>IR1</td>\n",
       "      <td>Lvl</td>\n",
       "      <td>AllPub</td>\n",
       "      <td>...</td>\n",
       "      <td>0</td>\n",
       "      <td>NaN</td>\n",
       "      <td>NaN</td>\n",
       "      <td>NaN</td>\n",
       "      <td>0</td>\n",
       "      <td>12</td>\n",
       "      <td>2008</td>\n",
       "      <td>WD</td>\n",
       "      <td>Normal</td>\n",
       "      <td>250000</td>\n",
       "    </tr>\n",
       "  </tbody>\n",
       "</table>\n",
       "<p>5 rows × 81 columns</p>\n",
       "</div>"
      ],
      "text/plain": [
       "   Id  MSSubClass MSZoning  LotFrontage  LotArea Street Alley LotShape  \\\n",
       "0   1          60       RL         65.0     8450   Pave   NaN      Reg   \n",
       "1   2          20       RL         80.0     9600   Pave   NaN      Reg   \n",
       "2   3          60       RL         68.0    11250   Pave   NaN      IR1   \n",
       "3   4          70       RL         60.0     9550   Pave   NaN      IR1   \n",
       "4   5          60       RL         84.0    14260   Pave   NaN      IR1   \n",
       "\n",
       "  LandContour Utilities  ... PoolArea PoolQC Fence MiscFeature MiscVal MoSold  \\\n",
       "0         Lvl    AllPub  ...        0    NaN   NaN         NaN       0      2   \n",
       "1         Lvl    AllPub  ...        0    NaN   NaN         NaN       0      5   \n",
       "2         Lvl    AllPub  ...        0    NaN   NaN         NaN       0      9   \n",
       "3         Lvl    AllPub  ...        0    NaN   NaN         NaN       0      2   \n",
       "4         Lvl    AllPub  ...        0    NaN   NaN         NaN       0     12   \n",
       "\n",
       "  YrSold  SaleType  SaleCondition  SalePrice  \n",
       "0   2008        WD         Normal     208500  \n",
       "1   2007        WD         Normal     181500  \n",
       "2   2008        WD         Normal     223500  \n",
       "3   2006        WD        Abnorml     140000  \n",
       "4   2008        WD         Normal     250000  \n",
       "\n",
       "[5 rows x 81 columns]"
      ]
     },
     "execution_count": 290,
     "metadata": {},
     "output_type": "execute_result"
    }
   ],
   "source": [
    "data = pd.read_csv('train.csv')\n",
    "data.head()"
   ]
  },
  {
   "cell_type": "code",
   "execution_count": 291,
   "metadata": {},
   "outputs": [],
   "source": [
    "#Feature engineering and reduction of dimensions from the data- \n",
    "#Concat the (year_built) and (year_modification year) into single feature-\n",
    "\n",
    "year_built = list(data['YearBuilt'])\n",
    "year_remod = list(data['YearRemodAdd'])\n",
    "\n",
    "for yb,yr in enumerate(year_built):\n",
    "    if year_built[yb] != year_remod[yb]:\n",
    "        y = year_remod[yb] - year_built[yb]\n",
    "        year_built[yb] += y\n",
    "\n",
    "#Basement type feature engineering ->\n",
    "\n",
    "basement_type1_total = list(new_data1['BsmtFinSF1'])\n",
    "basement_type2 = list(new_data1['BsmtFinSF2'])\n",
    "\n",
    "for n,tak in enumerate(basement_type1_total):\n",
    "    basement_type1_total[n] += basement_type2[n]\n",
    "    \n",
    "\n",
    "#Floor feature concat ->\n",
    "first_floor = list(new_data1['1stFlrSF'])\n",
    "second_floor = list(new_data['2ndFlrSF'])\n",
    "\n",
    "for n,tak in enumerate(first_floor):\n",
    "    first_floor[n] += second_floor[n]\n",
    "\n",
    "#basement features->\n",
    "\n",
    "basement_full_bath = list(new_data1['BsmtFullBath'])\n",
    "basement_half_bath = list(new_data1['BsmtHalfBath'])\n",
    "for n,tak in enumerate(basement_full_bath):\n",
    "    basement_full_bath[n] += basement_half_bath[n]"
   ]
  },
  {
   "cell_type": "code",
   "execution_count": 292,
   "metadata": {},
   "outputs": [],
   "source": [
    "# Data cleaning-\n",
    "#Function used to remove the null value as (other) in place of NULL or NONE values.\n",
    "#This function takes two parameters first whole(data), second (feature needs to be cleaned)\n",
    "\n",
    "def remove_null(dat,feature):\n",
    "    l = list(dat[feature.isnull()].index.tolist())\n",
    "    features = list(feature)\n",
    "    for n in l:\n",
    "        features[n] = 'other'\n",
    "    return features\n",
    "\n",
    "#Function to convert the columns into dataframe for concatenation into original_data-\n",
    "'''In this function first parameter is used for alloting the name to the column\n",
    "    and second is the real_column which needs to be converted'''\n",
    "\n",
    "def convert(column_name,real_column):\n",
    "    take = pd.Series(real_column)\n",
    "    df = pd.DataFrame({column_name:take})\n",
    "    return df\n",
    "\n",
    "#Function to fill the null integer  values by using maximum occurence of number-\n",
    "\n",
    "def fill_null(change):\n",
    "    arr = np.array(change).reshape(-1,1)\n",
    "    model = SimpleImputer(strategy='most_frequent')\n",
    "    model.fit(arr)\n",
    "    chan = model.transform(arr)\n",
    "    \n",
    "    return chan\n",
    "\n"
   ]
  },
  {
   "cell_type": "code",
   "execution_count": 293,
   "metadata": {},
   "outputs": [],
   "source": [
    "#Removing the null values by using functions-\n",
    "alley = remove_null(data,data['Alley'])\n",
    "alley = convert('alley',alley)\n",
    "\n",
    "pool_quality = remove_null(data,data['PoolQC'])\n",
    "pool_quality = convert('pool_quality',pool_quality)\n",
    "\n",
    "fence = remove_null(data,data['Fence'])\n",
    "fence = convert('fence',fence)\n",
    "\n",
    "misc_feature = remove_null(data,data['MiscFeature'])\n",
    "misc_feature = convert('misc_feature',misc_feature)\n",
    "\n",
    "garage_cond = remove_null(data,data['GarageCond'])\n",
    "garage_cond = convert('garage_cond',garage_cond)\n",
    "\n",
    "garage_quality = remove_null(data,data['GarageQual'])\n",
    "garage_quality = convert('garage_quality',garage_quality)\n",
    "\n",
    "garage_finish = remove_null(data,data['GarageFinish'])\n",
    "garage_finish = convert('garage_finish',garage_finish)\n",
    "\n",
    "fireplace_quality = remove_null(data,data['FireplaceQu'])\n",
    "fireplace_quality = convert('fireplace_quality',fireplace_quality)\n",
    "\n",
    "basement_finished = remove_null(data,data['BsmtFinType2'])\n",
    "basement_finished = convert('basement_finished2',basement_finished)\n",
    "\n",
    "basement_finished1 = remove_null(data,data['BsmtFinType1'])\n",
    "basement_finished1 = convert('basement_finished1',basement_finished1)\n",
    "\n",
    "basement_exposure = remove_null(data,data['BsmtExposure'])\n",
    "basement_exposure = convert('basement_exposure',basement_exposure)\n",
    "\n",
    "basement_cond = remove_null(data,data['BsmtCond'])\n",
    "basement_cond = convert('basement_cond',basement_cond)\n",
    "\n",
    "basement_quality = remove_null(data,data['BsmtQual'])\n",
    "basement_quality = convert('basement_quality',basement_quality)\n",
    "\n",
    "garage_type = remove_null(data,data['GarageType'])\n",
    "garage_type = convert('garage_type',garage_type)\n",
    "\n",
    "electrical = remove_null(data,data['Electrical'])\n",
    "electrical = convert('electrical',electrical)\n",
    "\n",
    "mas_vnr_type = remove_null(data,data['MasVnrType'])\n",
    "mas_vnr_type = convert('mas_vnr_type',mas_vnr_type)\n",
    "\n",
    "\n",
    "#In this section we are filling the missing values by using the maximum frequency of the number-\n",
    "\n",
    "lotfrontage = fill_null(data['LotFrontage'])\n",
    "lis = list(lotfrontage.reshape(-1,1))\n",
    "lotfrontage = convert('lotfrontage',lis)\n",
    "\n",
    "garage_year_built = fill_null(data['GarageYrBlt'])\n",
    "lis = list(garage_year_built.reshape(-1,1))\n",
    "garage_year_built = convert('garage_year_built',lis)\n",
    "\n",
    "mas_vnr_area = fill_null(data['MasVnrArea'])\n",
    "lis = list(mas_vnr_area.reshape(-1,1))\n",
    "mas_vnr_area = convert('mas_vnr_area',lis)\n",
    "\n",
    "year_built = convert('year_built',year_built)\n",
    "basement_type_total = convert('basement_type',basement_type1_total)\n",
    "total_floor = convert('total_floor',first_floor)\n",
    "basement_bath = convert('total_basement_bath',basement_full_bath)"
   ]
  },
  {
   "cell_type": "code",
   "execution_count": 294,
   "metadata": {},
   "outputs": [],
   "source": [
    "#At this section we are dropping the values after getting clean data from them->\n",
    "\n",
    "data.drop(['Alley','PoolQC','Fence','MiscFeature','GarageCond','GarageQual','GarageFinish','FireplaceQu','GarageType'],axis=1,inplace=True)\n",
    "data.drop(['BsmtFinType2','BsmtFinType1','BsmtExposure','BsmtCond','BsmtQual','LotFrontage','GarageYrBlt','Electrical'],axis=1,inplace=True)\n",
    "data.drop(['MasVnrType','MasVnrArea'],axis=1,inplace=True)\n",
    "data.dropna(inplace=True)"
   ]
  },
  {
   "cell_type": "code",
   "execution_count": 295,
   "metadata": {},
   "outputs": [],
   "source": [
    "#At this section we are concatenating the clean data into new dataframe->\n",
    "\n",
    "new_data = pd.concat([data,alley,pool_quality,fence,misc_feature,garage_cond,garage_quality,garage_finish,\n",
    "                     fireplace_quality,basement_finished],axis=1)\n",
    "new_data1 = pd.concat([new_data,basement_finished1,basement_exposure,basement_cond,basement_quality,garage_type,\n",
    "                     electrical,mas_vnr_type,lotfrontage,garage_year_built,mas_vnr_area],axis=1)"
   ]
  },
  {
   "cell_type": "code",
   "execution_count": 296,
   "metadata": {},
   "outputs": [
    {
     "data": {
      "text/html": [
       "<div>\n",
       "<style scoped>\n",
       "    .dataframe tbody tr th:only-of-type {\n",
       "        vertical-align: middle;\n",
       "    }\n",
       "\n",
       "    .dataframe tbody tr th {\n",
       "        vertical-align: top;\n",
       "    }\n",
       "\n",
       "    .dataframe thead th {\n",
       "        text-align: right;\n",
       "    }\n",
       "</style>\n",
       "<table border=\"1\" class=\"dataframe\">\n",
       "  <thead>\n",
       "    <tr style=\"text-align: right;\">\n",
       "      <th></th>\n",
       "      <th>Id</th>\n",
       "      <th>MSSubClass</th>\n",
       "      <th>MSZoning</th>\n",
       "      <th>LotArea</th>\n",
       "      <th>Street</th>\n",
       "      <th>LotShape</th>\n",
       "      <th>LandContour</th>\n",
       "      <th>Utilities</th>\n",
       "      <th>LotConfig</th>\n",
       "      <th>LandSlope</th>\n",
       "      <th>...</th>\n",
       "      <th>garage_type</th>\n",
       "      <th>electrical</th>\n",
       "      <th>mas_vnr_type</th>\n",
       "      <th>lotfrontage</th>\n",
       "      <th>garage_year_built</th>\n",
       "      <th>mas_vnr_area</th>\n",
       "      <th>year_built</th>\n",
       "      <th>basement_type</th>\n",
       "      <th>total_floor</th>\n",
       "      <th>total_basement_bath</th>\n",
       "    </tr>\n",
       "  </thead>\n",
       "  <tbody>\n",
       "    <tr>\n",
       "      <th>0</th>\n",
       "      <td>1</td>\n",
       "      <td>60</td>\n",
       "      <td>RL</td>\n",
       "      <td>8450</td>\n",
       "      <td>Pave</td>\n",
       "      <td>Reg</td>\n",
       "      <td>Lvl</td>\n",
       "      <td>AllPub</td>\n",
       "      <td>Inside</td>\n",
       "      <td>Gtl</td>\n",
       "      <td>...</td>\n",
       "      <td>Attchd</td>\n",
       "      <td>SBrkr</td>\n",
       "      <td>BrkFace</td>\n",
       "      <td>[65.0]</td>\n",
       "      <td>[2003.0]</td>\n",
       "      <td>[196.0]</td>\n",
       "      <td>2003</td>\n",
       "      <td>706</td>\n",
       "      <td>1710</td>\n",
       "      <td>1</td>\n",
       "    </tr>\n",
       "    <tr>\n",
       "      <th>1</th>\n",
       "      <td>2</td>\n",
       "      <td>20</td>\n",
       "      <td>RL</td>\n",
       "      <td>9600</td>\n",
       "      <td>Pave</td>\n",
       "      <td>Reg</td>\n",
       "      <td>Lvl</td>\n",
       "      <td>AllPub</td>\n",
       "      <td>FR2</td>\n",
       "      <td>Gtl</td>\n",
       "      <td>...</td>\n",
       "      <td>Attchd</td>\n",
       "      <td>SBrkr</td>\n",
       "      <td>None</td>\n",
       "      <td>[80.0]</td>\n",
       "      <td>[1976.0]</td>\n",
       "      <td>[0.0]</td>\n",
       "      <td>1976</td>\n",
       "      <td>978</td>\n",
       "      <td>1262</td>\n",
       "      <td>1</td>\n",
       "    </tr>\n",
       "    <tr>\n",
       "      <th>2</th>\n",
       "      <td>3</td>\n",
       "      <td>60</td>\n",
       "      <td>RL</td>\n",
       "      <td>11250</td>\n",
       "      <td>Pave</td>\n",
       "      <td>IR1</td>\n",
       "      <td>Lvl</td>\n",
       "      <td>AllPub</td>\n",
       "      <td>Inside</td>\n",
       "      <td>Gtl</td>\n",
       "      <td>...</td>\n",
       "      <td>Attchd</td>\n",
       "      <td>SBrkr</td>\n",
       "      <td>BrkFace</td>\n",
       "      <td>[68.0]</td>\n",
       "      <td>[2001.0]</td>\n",
       "      <td>[162.0]</td>\n",
       "      <td>2002</td>\n",
       "      <td>486</td>\n",
       "      <td>1786</td>\n",
       "      <td>1</td>\n",
       "    </tr>\n",
       "    <tr>\n",
       "      <th>3</th>\n",
       "      <td>4</td>\n",
       "      <td>70</td>\n",
       "      <td>RL</td>\n",
       "      <td>9550</td>\n",
       "      <td>Pave</td>\n",
       "      <td>IR1</td>\n",
       "      <td>Lvl</td>\n",
       "      <td>AllPub</td>\n",
       "      <td>Corner</td>\n",
       "      <td>Gtl</td>\n",
       "      <td>...</td>\n",
       "      <td>Detchd</td>\n",
       "      <td>SBrkr</td>\n",
       "      <td>None</td>\n",
       "      <td>[60.0]</td>\n",
       "      <td>[1998.0]</td>\n",
       "      <td>[0.0]</td>\n",
       "      <td>1970</td>\n",
       "      <td>216</td>\n",
       "      <td>1717</td>\n",
       "      <td>1</td>\n",
       "    </tr>\n",
       "    <tr>\n",
       "      <th>4</th>\n",
       "      <td>5</td>\n",
       "      <td>60</td>\n",
       "      <td>RL</td>\n",
       "      <td>14260</td>\n",
       "      <td>Pave</td>\n",
       "      <td>IR1</td>\n",
       "      <td>Lvl</td>\n",
       "      <td>AllPub</td>\n",
       "      <td>FR2</td>\n",
       "      <td>Gtl</td>\n",
       "      <td>...</td>\n",
       "      <td>Attchd</td>\n",
       "      <td>SBrkr</td>\n",
       "      <td>BrkFace</td>\n",
       "      <td>[84.0]</td>\n",
       "      <td>[2000.0]</td>\n",
       "      <td>[350.0]</td>\n",
       "      <td>2000</td>\n",
       "      <td>655</td>\n",
       "      <td>2198</td>\n",
       "      <td>1</td>\n",
       "    </tr>\n",
       "  </tbody>\n",
       "</table>\n",
       "<p>5 rows × 85 columns</p>\n",
       "</div>"
      ],
      "text/plain": [
       "   Id  MSSubClass MSZoning  LotArea Street LotShape LandContour Utilities  \\\n",
       "0   1          60       RL     8450   Pave      Reg         Lvl    AllPub   \n",
       "1   2          20       RL     9600   Pave      Reg         Lvl    AllPub   \n",
       "2   3          60       RL    11250   Pave      IR1         Lvl    AllPub   \n",
       "3   4          70       RL     9550   Pave      IR1         Lvl    AllPub   \n",
       "4   5          60       RL    14260   Pave      IR1         Lvl    AllPub   \n",
       "\n",
       "  LotConfig LandSlope  ... garage_type electrical mas_vnr_type lotfrontage  \\\n",
       "0    Inside       Gtl  ...      Attchd      SBrkr      BrkFace      [65.0]   \n",
       "1       FR2       Gtl  ...      Attchd      SBrkr         None      [80.0]   \n",
       "2    Inside       Gtl  ...      Attchd      SBrkr      BrkFace      [68.0]   \n",
       "3    Corner       Gtl  ...      Detchd      SBrkr         None      [60.0]   \n",
       "4       FR2       Gtl  ...      Attchd      SBrkr      BrkFace      [84.0]   \n",
       "\n",
       "  garage_year_built  mas_vnr_area  year_built  basement_type  total_floor  \\\n",
       "0          [2003.0]       [196.0]        2003            706         1710   \n",
       "1          [1976.0]         [0.0]        1976            978         1262   \n",
       "2          [2001.0]       [162.0]        2002            486         1786   \n",
       "3          [1998.0]         [0.0]        1970            216         1717   \n",
       "4          [2000.0]       [350.0]        2000            655         2198   \n",
       "\n",
       "  total_basement_bath  \n",
       "0                   1  \n",
       "1                   1  \n",
       "2                   1  \n",
       "3                   1  \n",
       "4                   1  \n",
       "\n",
       "[5 rows x 85 columns]"
      ]
     },
     "execution_count": 296,
     "metadata": {},
     "output_type": "execute_result"
    }
   ],
   "source": [
    "'''This is our clean data now we need to visualise the data on map to check the dependencies of (SalePrice) \n",
    "    on the  data'''\n",
    "\n",
    "new_data1 = pd.concat([new_data1,year_built,basement_type_total,total_floor,basement_bath],axis=1)\n",
    "new_data1.head()\n"
   ]
  },
  {
   "cell_type": "code",
   "execution_count": 314,
   "metadata": {},
   "outputs": [
    {
     "name": "stdout",
     "output_type": "stream",
     "text": [
      "<class 'pandas.core.frame.DataFrame'>\n",
      "Int64Index: 1460 entries, 0 to 1459\n",
      "Data columns (total 85 columns):\n",
      "Id                     1460 non-null int64\n",
      "MSSubClass             1460 non-null int64\n",
      "MSZoning               1460 non-null object\n",
      "LotArea                1460 non-null int64\n",
      "Street                 1460 non-null object\n",
      "LotShape               1460 non-null object\n",
      "LandContour            1460 non-null object\n",
      "Utilities              1460 non-null object\n",
      "LotConfig              1460 non-null object\n",
      "LandSlope              1460 non-null object\n",
      "Neighborhood           1460 non-null object\n",
      "Condition1             1460 non-null object\n",
      "Condition2             1460 non-null object\n",
      "BldgType               1460 non-null object\n",
      "HouseStyle             1460 non-null object\n",
      "OverallQual            1460 non-null int64\n",
      "OverallCond            1460 non-null int64\n",
      "YearBuilt              1460 non-null int64\n",
      "YearRemodAdd           1460 non-null int64\n",
      "RoofStyle              1460 non-null object\n",
      "RoofMatl               1460 non-null object\n",
      "Exterior1st            1460 non-null object\n",
      "Exterior2nd            1460 non-null object\n",
      "ExterQual              1460 non-null object\n",
      "ExterCond              1460 non-null object\n",
      "Foundation             1460 non-null object\n",
      "BsmtFinSF1             1460 non-null int64\n",
      "BsmtFinSF2             1460 non-null int64\n",
      "BsmtUnfSF              1460 non-null int64\n",
      "TotalBsmtSF            1460 non-null int64\n",
      "Heating                1460 non-null object\n",
      "HeatingQC              1460 non-null object\n",
      "CentralAir             1460 non-null object\n",
      "1stFlrSF               1460 non-null int64\n",
      "2ndFlrSF               1460 non-null int64\n",
      "LowQualFinSF           1460 non-null int64\n",
      "GrLivArea              1460 non-null int64\n",
      "BsmtFullBath           1460 non-null int64\n",
      "BsmtHalfBath           1460 non-null int64\n",
      "FullBath               1460 non-null int64\n",
      "HalfBath               1460 non-null int64\n",
      "BedroomAbvGr           1460 non-null int64\n",
      "KitchenAbvGr           1460 non-null int64\n",
      "KitchenQual            1460 non-null object\n",
      "TotRmsAbvGrd           1460 non-null int64\n",
      "Functional             1460 non-null object\n",
      "Fireplaces             1460 non-null int64\n",
      "GarageCars             1460 non-null int64\n",
      "GarageArea             1460 non-null int64\n",
      "PavedDrive             1460 non-null object\n",
      "WoodDeckSF             1460 non-null int64\n",
      "OpenPorchSF            1460 non-null int64\n",
      "EnclosedPorch          1460 non-null int64\n",
      "3SsnPorch              1460 non-null int64\n",
      "ScreenPorch            1460 non-null int64\n",
      "PoolArea               1460 non-null int64\n",
      "MiscVal                1460 non-null int64\n",
      "MoSold                 1460 non-null int64\n",
      "YrSold                 1460 non-null int64\n",
      "SaleType               1460 non-null object\n",
      "SaleCondition          1460 non-null object\n",
      "SalePrice              1460 non-null int64\n",
      "alley                  1460 non-null object\n",
      "pool_quality           1460 non-null object\n",
      "fence                  1460 non-null object\n",
      "misc_feature           1460 non-null object\n",
      "garage_cond            1460 non-null object\n",
      "garage_quality         1460 non-null object\n",
      "garage_finish          1460 non-null object\n",
      "fireplace_quality      1460 non-null object\n",
      "basement_finished2     1460 non-null object\n",
      "basement_finished1     1460 non-null object\n",
      "basement_exposure      1460 non-null object\n",
      "basement_cond          1460 non-null object\n",
      "basement_quality       1460 non-null object\n",
      "garage_type            1460 non-null object\n",
      "electrical             1460 non-null object\n",
      "mas_vnr_type           1460 non-null object\n",
      "lotfrontage            1460 non-null object\n",
      "garage_year_built      1460 non-null object\n",
      "mas_vnr_area           1460 non-null object\n",
      "year_built             1460 non-null int64\n",
      "basement_type          1460 non-null int64\n",
      "total_floor            1460 non-null int64\n",
      "total_basement_bath    1460 non-null int64\n",
      "dtypes: int64(39), object(46)\n",
      "memory usage: 1020.9+ KB\n"
     ]
    }
   ],
   "source": [
    "new_data1.info()"
   ]
  },
  {
   "cell_type": "code",
   "execution_count": 332,
   "metadata": {},
   "outputs": [
    {
     "data": {
      "text/plain": [
       "78.11749386804539"
      ]
     },
     "execution_count": 332,
     "metadata": {},
     "output_type": "execute_result"
    }
   ],
   "source": [
    "#Regression testing- \n",
    "from sklearn.linear_model import LinearRegression\n",
    "from sklearn.model_selection import KFold\n",
    "from sklearn.preprocessing import StandardScaler\n",
    "from sklearn.preprocessing import PolynomialFeatures\n",
    "\n",
    "x = new_data1[['LotArea','year_built','garage_year_built','GarageArea','mas_vnr_area',\n",
    "               'TotalBsmtSF','total_floor','GrLivArea','total_basement_bath','TotRmsAbvGrd',\n",
    "                  'GarageCars','OpenPorchSF']]\n",
    "\n",
    "#x = new_data1[['EnclosedPorch']]\n",
    "y = new_data1['SalePrice']\n",
    "\n",
    "x = np.array(x).astype('float')\n",
    "\n",
    "\n",
    "scale = StandardScaler()\n",
    "scale.fit(x)\n",
    "x = scale.transform(x)\n",
    "\n",
    "poly = PolynomialFeatures(degree=2)\n",
    "x = poly.fit_transform(x)\n",
    "\n",
    "folds = KFold(n_splits=2)\n",
    "folds.get_n_splits(x)\n",
    "for train_index, test_index in folds.split(x):\n",
    "    x_train,x_test = x[train_index],x[test_index]\n",
    "    y_train,y_test = y[train_index],y[test_index]\n",
    "\n",
    "\n",
    "model = LinearRegression()\n",
    "model.fit(x_train,y_train)\n",
    "pr = model.predict(x_test)\n",
    "model.score(x_test,y_test)*100\n"
   ]
  },
  {
   "cell_type": "code",
   "execution_count": 306,
   "metadata": {},
   "outputs": [
    {
     "data": {
      "text/plain": [
       "[<matplotlib.lines.Line2D at 0x277d3c28c88>]"
      ]
     },
     "execution_count": 306,
     "metadata": {},
     "output_type": "execute_result"
    },
    {
     "data": {
      "image/png": "[encoded data removed]",
      "text/plain": [
       "<Figure size 432x288 with 1 Axes>"
      ]
     },
     "metadata": {},
     "output_type": "display_data"
    }
   ],
   "source": [
    "plt.plot(new_data1['TotRmsAbvGrd'],y,'*')"
   ]
  },
  {
   "cell_type": "code",
   "execution_count": 339,
   "metadata": {},
   "outputs": [
    {
     "data": {
      "text/plain": [
       "78.11749386804539"
      ]
     },
     "execution_count": 339,
     "metadata": {},
     "output_type": "execute_result"
    }
   ],
   "source": [
    "#Ridge\n",
    "from sklearn.linear_model import Ridge\n",
    "model_ridge = Ridge(alpha=0.1)\n",
    "model_ridge.fit(x_train,y_train)\n",
    "pre  = model_ridge.predict(x_test)\n",
    "model.score(x_test,y_test)*100"
   ]
  },
  {
   "cell_type": "code",
   "execution_count": 435,
   "metadata": {},
   "outputs": [
    {
     "data": {
      "text/plain": [
       "80.91995839305703"
      ]
     },
     "execution_count": 435,
     "metadata": {},
     "output_type": "execute_result"
    }
   ],
   "source": [
    "#Lasso\n",
    "from sklearn.linear_model import Lasso\n",
    "lasso_model = Lasso(tol=0.1)\n",
    "lasso_model.fit(x_train,y_train)\n",
    "pre = lasso_model.predict(x_test)\n",
    "lasso_model.score(x_test,y_test)*100"
   ]
  },
  {
   "cell_type": "code",
   "execution_count": 436,
   "metadata": {},
   "outputs": [
    {
     "data": {
      "text/plain": [
       "-3.779442923808274"
      ]
     },
     "execution_count": 436,
     "metadata": {},
     "output_type": "execute_result"
    }
   ],
   "source": [
    "#SVM predicts worst prediction->\n",
    "from sklearn import svm\n",
    "svm_model  = svm.SVR(kernel='linear',tol=0.1,C=0.001)\n",
    "svm_model.fit(x_train,y_train)\n",
    "pre = svm_model.predict(x_test)\n",
    "svm_model.score(x_test,y_test)*100"
   ]
  },
  {
   "cell_type": "code",
   "execution_count": 437,
   "metadata": {},
   "outputs": [
    {
     "data": {
      "text/plain": [
       "67.50394185666404"
      ]
     },
     "execution_count": 437,
     "metadata": {},
     "output_type": "execute_result"
    }
   ],
   "source": [
    "#Decisiontree->\n",
    "from sklearn import tree\n",
    "tree_model = tree.DecisionTreeRegressor(criterion='mae',max_depth=50,min_samples_leaf=2)\n",
    "tree_model.fit(x_train,y_train)\n",
    "tree_model.score(x_test,y_test)*100"
   ]
  },
  {
   "cell_type": "code",
   "execution_count": 454,
   "metadata": {},
   "outputs": [
    {
     "data": {
      "text/plain": [
       "78.94556451562626"
      ]
     },
     "execution_count": 454,
     "metadata": {},
     "output_type": "execute_result"
    }
   ],
   "source": [
    "from sklearn.ensemble import RandomForestRegressor\n",
    "random_model = RandomForestRegressor(n_estimators=10,criterion='mae',min_samples_split=3,max_depth=10,\n",
    "                                    max_leaf_nodes=40)\n",
    "random_model.fit(x_train,y_train)\n",
    "random_model.score(x_test,y_test)*100\n"
   ]
  },
  {
   "cell_type": "code",
   "execution_count": 439,
   "metadata": {},
   "outputs": [
    {
     "data": {
      "text/plain": [
       "RandomForestRegressor(bootstrap=True, criterion='mae', max_depth=30,\n",
       "           max_features='auto', max_leaf_nodes=None,\n",
       "           min_impurity_decrease=0.0, min_impurity_split=None,\n",
       "           min_samples_leaf=1, min_samples_split=3,\n",
       "           min_weight_fraction_leaf=0.0, n_estimators=10, n_jobs=None,\n",
       "           oob_score=False, random_state=None, verbose=0, warm_start=False)"
      ]
     },
     "execution_count": 439,
     "metadata": {},
     "output_type": "execute_result"
    }
   ],
   "source": [
    "random_model"
   ]
  },
  {
   "cell_type": "code",
   "execution_count": 433,
   "metadata": {},
   "outputs": [
    {
     "data": {
      "text/plain": [
       "<matplotlib.axes._subplots.AxesSubplot at 0x277da2dfb70>"
      ]
     },
     "execution_count": 433,
     "metadata": {},
     "output_type": "execute_result"
    },
    {
     "data": {
      "image/png": "[encoded data removed]",
      "text/plain": [
       "<Figure size 432x288 with 1 Axes>"
      ]
     },
     "metadata": {},
     "output_type": "display_data"
    }
   ],
   "source": [
    "sns.set(style='whitegrid')\n",
    "sns.barplot(x='BsmtHalfBath',y='SalePrice',data=new_data1)"
   ]
  },
  {
   "cell_type": "code",
   "execution_count": 434,
   "metadata": {},
   "outputs": [
    {
     "data": {
      "text/plain": [
       "<matplotlib.axes._subplots.AxesSubplot at 0x277da333f28>"
      ]
     },
     "execution_count": 434,
     "metadata": {},
     "output_type": "execute_result"
    },
    {
     "data": {
      "image/png": "[encoded data removed]",
      "text/plain": [
       "<Figure size 432x288 with 1 Axes>"
      ]
     },
     "metadata": {},
     "output_type": "display_data"
    }
   ],
   "source": [
    "sns.set(style='whitegrid')\n",
    "sns.barplot(x='GarageCars',y='SalePrice',data=new_data1)"
   ]
  },
  {
   "cell_type": "code",
   "execution_count": null,
   "metadata": {},
   "outputs": [],
   "source": []
  },
  {
   "cell_type": "code",
   "execution_count": null,
   "metadata": {},
   "outputs": [],
   "source": []
  }
 ],
 "metadata": {
  "kernelspec": {
   "display_name": "Python 3",
   "language": "python",
   "name": "python3"
  },
  "language_info": {
   "codemirror_mode": {
    "name": "ipython",
    "version": 3
   },
   "file_extension": ".py",
   "mimetype": "text/x-python",
   "name": "python",
   "nbconvert_exporter": "python",
   "pygments_lexer": "ipython3",
   "version": "3.6.8"
  }
 },
 "nbformat": 4,
 "nbformat_minor": 2
}
